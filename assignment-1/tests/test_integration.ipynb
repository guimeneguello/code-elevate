{
 "cells": [
  {
   "cell_type": "markdown",
   "id": "853b8dea",
   "metadata": {},
   "source": [
    " Teste de Integração do Pipeline PySpark\n",
    "Este notebook executa um teste de integração do pipeline completo, desde a leitura do CSV até a geração da tabela gold."
   ]
  },
  {
   "cell_type": "code",
   "execution_count": null,
   "id": "d707c9ec",
   "metadata": {},
   "outputs": [],
   "source": [
    "import sys\n",
    "import os\n",
    "sys.path.append(os.path.abspath(os.path.join(os.getcwd(), '..')))\n",
    "#importa o code_elevate_app package mesmo que esteja na pasta tests"
   ]
  },
  {
   "cell_type": "code",
   "execution_count": null,
   "id": "2baf4813",
   "metadata": {},
   "outputs": [],
   "source": [
    "from pyspark.sql import SparkSession\n",
    "from code_elevate_app.utils.reader import Reader\n",
    "from code_elevate_app.utils.processing import Transformer\n",
    "from code_elevate_app.utils.aggregator import Aggregator\n",
    "import os\n",
    "\n",
    "BRONZE_PATH = os.path.join(\"..\", \"table_destinations\", \"info_transportes.parquet\")\n",
    "SILVER_PATH = os.path.join(\"..\", \"table_destinations\", \"info_transportes_silver.parquet\")\n",
    "GOLD_PATH = os.path.join(\"..\", \"table_destinations\", \"info_corridas_do_dia.parquet\")\n",
    "CSV_PATH = os.path.join(\"..\", \"info_transportes.csv\") \n",
    "\n",
    "spark = SparkSession.builder.appName(\"integration-test\").getOrCreate()\n",
    "reader = Reader(spark, CSV_PATH)\n",
    "processing = Transformer(spark)\n",
    "aggregator = Aggregator(spark)\n",
    "print(\"Iniciando teste de integração...\")"
   ]
  },
  {
   "cell_type": "markdown",
   "id": "8118fae9",
   "metadata": {},
   "source": [
    " Bronze: Leitura e persistência do CSV"
   ]
  },
  {
   "cell_type": "code",
   "execution_count": null,
   "id": "45ccd5ab",
   "metadata": {},
   "outputs": [],
   "source": [
    "df_transportes = reader.csv_reader()\n",
    "reader.csv_reader()\n",
    "assert os.path.exists(BRONZE_PATH), \"Arquivo bronze não foi criado.\"\n",
    "print(\"Tudo certo até aqui, arquivo bronze criado.\")"
   ]
  },
  {
   "cell_type": "markdown",
   "id": "d3fad34c",
   "metadata": {},
   "source": [
    " Silver: Transformação e persistência"
   ]
  },
  {
   "cell_type": "code",
   "execution_count": null,
   "id": "f0b3a710",
   "metadata": {},
   "outputs": [],
   "source": [
    "df_bronze = processing.read_bronze(BRONZE_PATH)\n",
    "df_silver = processing.transform(df_bronze)\n",
    "processing.write_silver(df_silver, SILVER_PATH)\n",
    "assert os.path.exists(SILVER_PATH), \"Arquivo silver não foi criado.\"\n",
    "print(\"Tudo certo até aqui, arquivo silver criado.\")"
   ]
  },
  {
   "cell_type": "markdown",
   "id": "6a071904",
   "metadata": {},
   "source": [
    " Gold: Agregação e persistência"
   ]
  },
  {
   "cell_type": "code",
   "execution_count": null,
   "id": "0334aca7",
   "metadata": {},
   "outputs": [],
   "source": [
    "df_silver = aggregator.read_silver(SILVER_PATH)\n",
    "df_gold = aggregator.aggregations(df_silver)\n",
    "aggregator.write_gold(df_gold, GOLD_PATH)\n",
    "assert os.path.exists(GOLD_PATH), \"Arquivo gold não foi criado.\"\n",
    "print(\"Tudo certo até aqui, arquivo gold criado.\")"
   ]
  },
  {
   "cell_type": "markdown",
   "id": "b8e78725",
   "metadata": {},
   "source": [
    " Visualização dos resultados finais (gold)"
   ]
  },
  {
   "cell_type": "code",
   "execution_count": null,
   "id": "60d62a97",
   "metadata": {},
   "outputs": [],
   "source": [
    "df_gold = spark.read.parquet(GOLD_PATH)\n",
    "df_gold.show()"
   ]
  },
  {
   "cell_type": "code",
   "execution_count": null,
   "id": "4659fe19",
   "metadata": {},
   "outputs": [],
   "source": [
    "spark.stop()"
   ]
  }
 ],
 "metadata": {
  "language_info": {
   "name": "python"
  }
 },
 "nbformat": 4,
 "nbformat_minor": 5
}
