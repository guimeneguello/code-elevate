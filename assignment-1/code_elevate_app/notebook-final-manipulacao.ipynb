{
 "cells": [
  {
   "cell_type": "markdown",
   "id": "b1ce7f71",
   "metadata": {},
   "source": [
    "#Notebook para manipulação dos dados finais"
   ]
  },
  {
   "cell_type": "code",
   "execution_count": 2,
   "id": "d6223e81",
   "metadata": {},
   "outputs": [
    {
     "name": "stdout",
     "output_type": "stream",
     "text": [
      "Sessão spark iniciada com sucesso\n"
     ]
    }
   ],
   "source": [
    "from pyspark.sql import SparkSession\n",
    "from pyspark.sql import functions as f\n",
    "import os\n",
    "\n",
    "BRONZE_PATH = os.path.join(\"..\", \"table_destinations\", \"info_transportes.parquet\")\n",
    "SILVER_PATH = os.path.join(\"..\", \"table_destinations\", \"info_transportes_silver.parquet\")\n",
    "GOLD_PATH = os.path.join(\"..\", \"table_destinations\", \"info_corridas_do_dia.parquet\")\n",
    "\n",
    "spark = SparkSession.builder.appName(\"assignment1\").getOrCreate()\n",
    "print(\"Sessão spark iniciada com sucesso\")"
   ]
  },
  {
   "cell_type": "code",
   "execution_count": 3,
   "id": "6211737b",
   "metadata": {},
   "outputs": [
    {
     "name": "stdout",
     "output_type": "stream",
     "text": [
      "root\n",
      " |-- DATA_INICIO: string (nullable = true)\n",
      " |-- DATA_FIM: string (nullable = true)\n",
      " |-- CATEGORIA: string (nullable = true)\n",
      " |-- LOCAL_INICIO: string (nullable = true)\n",
      " |-- LOCAL_FIM: string (nullable = true)\n",
      " |-- DISTANCIA: integer (nullable = true)\n",
      " |-- PROPOSITO: string (nullable = true)\n",
      "\n",
      "Número de registro bronze: 1153\n",
      "+----------------+----------------+---------+-----------------+---------------+---------+-----------------+\n",
      "|     DATA_INICIO|        DATA_FIM|CATEGORIA|     LOCAL_INICIO|      LOCAL_FIM|DISTANCIA|        PROPOSITO|\n",
      "+----------------+----------------+---------+-----------------+---------------+---------+-----------------+\n",
      "|01-01-2016 21:11|01-01-2016 21:17|  Negocio|      Fort Pierce|    Fort Pierce|       51|      Alimentação|\n",
      "|01-02-2016 01:25|01-02-2016 01:37|  Negocio|      Fort Pierce|    Fort Pierce|        5|             NULL|\n",
      "|01-02-2016 20:25|01-02-2016 20:38|  Negocio|      Fort Pierce|    Fort Pierce|       48|         Entregas|\n",
      "|01-05-2016 17:31|01-05-2016 17:45|  Negocio|      Fort Pierce|    Fort Pierce|       47|          Reunião|\n",
      "|01-06-2016 14:42|01-06-2016 15:49|  Negocio|      Fort Pierce|West Palm Beach|      637|Visita ao cliente|\n",
      "|01-06-2016 17:15|01-06-2016 17:19|  Negocio|  West Palm Beach|West Palm Beach|       43|      Alimentação|\n",
      "|01-06-2016 17:30|01-06-2016 17:35|  Negocio|  West Palm Beach|     Palm Beach|       71|          Reunião|\n",
      "|01-07-2016 13:27|01-07-2016 13:33|  Negocio|             Cary|           Cary|        8|          Reunião|\n",
      "|01-10-2016 08:05|01-10-2016 08:25|  Negocio|             Cary|    Morrisville|       83|          Reunião|\n",
      "|01-10-2016 12:17|01-10-2016 12:44|  Negocio|          Jamaica|       New York|      165|Visita ao cliente|\n",
      "|01-10-2016 15:08|01-10-2016 15:51|  Negocio|         New York|         Queens|      108|          Reunião|\n",
      "|01-10-2016 18:18|01-10-2016 18:53|  Negocio|         Elmhurst|       New York|       75|          Reunião|\n",
      "|01-10-2016 19:12|01-10-2016 19:32|  Negocio|          Midtown|    East Harlem|       62|          Reunião|\n",
      "|01-11-2016 11:56|01-11-2016 12:03|  Negocio|Flatiron District|        Midtown|       16|         Entregas|\n",
      "|01-11-2016 13:32|01-11-2016 13:46|  Negocio|          Midtown|   Midtown East|       17|      Alimentação|\n",
      "|01-11-2016 14:30|01-11-2016 14:43|  Negocio|     Midtown East|        Midtown|       19|      Alimentação|\n",
      "|01-12-2016 12:33|01-12-2016 12:49|  Negocio|          Midtown|  Hudson Square|       19|      Alimentação|\n",
      "|01-12-2016 12:53|01-12-2016 13:09|  Negocio|    Hudson Square|Lower Manhattan|        4|      Alimentação|\n",
      "|01-12-2016 14:42|01-12-2016 14:56|  Negocio|  Lower Manhattan|  Hudson Square|       18|         Entregas|\n",
      "|01-12-2016 15:13|01-12-2016 15:28|  Negocio|    Hudson Square| Hell's Kitchen|       24|Visita ao cliente|\n",
      "+----------------+----------------+---------+-----------------+---------------+---------+-----------------+\n",
      "only showing top 20 rows\n"
     ]
    }
   ],
   "source": [
    "df_bronze = spark.read.parquet(BRONZE_PATH)\n",
    "\n",
    "df_bronze.printSchema()\n",
    "contagem = df_bronze.count()\n",
    "print(f\"Número de registro bronze: {contagem}\")\n",
    "df_bronze.show()"
   ]
  },
  {
   "cell_type": "code",
   "execution_count": null,
   "id": "73cb7eb2",
   "metadata": {},
   "outputs": [
    {
     "name": "stdout",
     "output_type": "stream",
     "text": [
      "root\n",
      " |-- DATA_INICIO: string (nullable = true)\n",
      " |-- DATA_FIM: string (nullable = true)\n",
      " |-- CATEGORIA: string (nullable = true)\n",
      " |-- LOCAL_INICIO: string (nullable = true)\n",
      " |-- LOCAL_FIM: string (nullable = true)\n",
      " |-- DISTANCIA: long (nullable = true)\n",
      " |-- PROPOSITO: string (nullable = true)\n",
      " |-- DT_REFE: string (nullable = true)\n",
      "\n",
      "Número de registro silver: 1153\n",
      "+----------------+----------------+---------+-----------------+---------------+---------+-----------------+----------+\n",
      "|     DATA_INICIO|        DATA_FIM|CATEGORIA|     LOCAL_INICIO|      LOCAL_FIM|DISTANCIA|        PROPOSITO|   DT_REFE|\n",
      "+----------------+----------------+---------+-----------------+---------------+---------+-----------------+----------+\n",
      "|01-01-2016 21:11|01-01-2016 21:17|  Negocio|      Fort Pierce|    Fort Pierce|       51|      Alimentacao|2016-01-01|\n",
      "|01-02-2016 01:25|01-02-2016 01:37|  Negocio|      Fort Pierce|    Fort Pierce|        5|       Nao-consta|2016-01-02|\n",
      "|01-02-2016 20:25|01-02-2016 20:38|  Negocio|      Fort Pierce|    Fort Pierce|       48|         Entregas|2016-01-02|\n",
      "|01-05-2016 17:31|01-05-2016 17:45|  Negocio|      Fort Pierce|    Fort Pierce|       47|          Reuniao|2016-01-05|\n",
      "|01-06-2016 14:42|01-06-2016 15:49|  Negocio|      Fort Pierce|West Palm Beach|      637|Visita ao cliente|2016-01-06|\n",
      "|01-06-2016 17:15|01-06-2016 17:19|  Negocio|  West Palm Beach|West Palm Beach|       43|      Alimentacao|2016-01-06|\n",
      "|01-06-2016 17:30|01-06-2016 17:35|  Negocio|  West Palm Beach|     Palm Beach|       71|          Reuniao|2016-01-06|\n",
      "|01-07-2016 13:27|01-07-2016 13:33|  Negocio|             Cary|           Cary|        8|          Reuniao|2016-01-07|\n",
      "|01-10-2016 08:05|01-10-2016 08:25|  Negocio|             Cary|    Morrisville|       83|          Reuniao|2016-01-10|\n",
      "|01-10-2016 12:17|01-10-2016 12:44|  Negocio|          Jamaica|       New York|      165|Visita ao cliente|2016-01-10|\n",
      "|01-10-2016 15:08|01-10-2016 15:51|  Negocio|         New York|         Queens|      108|          Reuniao|2016-01-10|\n",
      "|01-10-2016 18:18|01-10-2016 18:53|  Negocio|         Elmhurst|       New York|       75|          Reuniao|2016-01-10|\n",
      "|01-10-2016 19:12|01-10-2016 19:32|  Negocio|          Midtown|    East Harlem|       62|          Reuniao|2016-01-10|\n",
      "|01-11-2016 11:56|01-11-2016 12:03|  Negocio|Flatiron District|        Midtown|       16|         Entregas|2016-01-11|\n",
      "|01-11-2016 13:32|01-11-2016 13:46|  Negocio|          Midtown|   Midtown East|       17|      Alimentacao|2016-01-11|\n",
      "|01-11-2016 14:30|01-11-2016 14:43|  Negocio|     Midtown East|        Midtown|       19|      Alimentacao|2016-01-11|\n",
      "|01-12-2016 12:33|01-12-2016 12:49|  Negocio|          Midtown|  Hudson Square|       19|      Alimentacao|2016-01-12|\n",
      "|01-12-2016 12:53|01-12-2016 13:09|  Negocio|    Hudson Square|Lower Manhattan|        4|      Alimentacao|2016-01-12|\n",
      "|01-12-2016 14:42|01-12-2016 14:56|  Negocio|  Lower Manhattan|  Hudson Square|       18|         Entregas|2016-01-12|\n",
      "|01-12-2016 15:13|01-12-2016 15:28|  Negocio|    Hudson Square| Hell's Kitchen|       24|Visita ao cliente|2016-01-12|\n",
      "+----------------+----------------+---------+-----------------+---------------+---------+-----------------+----------+\n",
      "only showing top 20 rows\n"
     ]
    }
   ],
   "source": [
    "df_silver = spark.read.parquet(SILVER_PATH)\n",
    "\n",
    "df_silver.printSchema()\n",
    "contagem = df_silver.count()\n",
    "print(f\"Número de registro silver: {contagem}\")\n",
    "df_silver.show()\n",
    "\n",
    "null_count = df_silver.select([f.count(f.when(f.col(c).isNull(), c)).alias(c) for c in df_silver.columns])\n",
    "null_count.show()"
   ]
  },
  {
   "cell_type": "code",
   "execution_count": 5,
   "id": "d1dc6079",
   "metadata": {},
   "outputs": [
    {
     "name": "stdout",
     "output_type": "stream",
     "text": [
      "root\n",
      " |-- DT_REFE: string (nullable = true)\n",
      " |-- QT_CORR: long (nullable = true)\n",
      " |-- QT_CORR_NEG: long (nullable = true)\n",
      " |-- QT_CORR_PESS: long (nullable = true)\n",
      " |-- VL_MAX_DIST: long (nullable = true)\n",
      " |-- VL_MIN_DIST: long (nullable = true)\n",
      " |-- VL_AVG_DIST: double (nullable = true)\n",
      " |-- QT_CORR_REUNI: long (nullable = true)\n",
      " |-- QT_CORR_NAO_REUNI: long (nullable = true)\n",
      "\n",
      "Número de registro gold: 287\n",
      "+----------+-------+-----------+------------+-----------+-----------+-----------+-------------+-----------------+\n",
      "|   DT_REFE|QT_CORR|QT_CORR_NEG|QT_CORR_PESS|VL_MAX_DIST|VL_MIN_DIST|VL_AVG_DIST|QT_CORR_REUNI|QT_CORR_NAO_REUNI|\n",
      "+----------+-------+-----------+------------+-----------+-----------+-----------+-------------+-----------------+\n",
      "|2016-08-17|      8|          8|           0|        121|         14|       60.4|            0|                8|\n",
      "|2016-04-22|      4|          4|           0|        225|         10|      118.8|            4|                0|\n",
      "|2016-08-08|      5|          5|           0|         52|          4|       32.6|            0|                5|\n",
      "|2016-09-11|      2|          2|           0|         98|         86|       92.0|            0|                2|\n",
      "|2016-07-06|      5|          5|           0|         99|         31|       65.0|            1|                4|\n",
      "|2016-03-17|      7|          3|           4|        302|         17|      127.0|            1|                6|\n",
      "|2016-04-15|      3|          3|           0|        152|         14|       95.0|            1|                2|\n",
      "|2016-01-29|      6|          6|           0|        104|         46|       69.3|            3|                3|\n",
      "|2016-07-23|      6|          6|           0|        104|          3|       61.3|            2|                4|\n",
      "|2016-01-18|      2|          2|           0|         48|         47|       47.5|            0|                2|\n",
      "|2016-06-08|      8|          8|           0|        223|          5|       54.6|            0|                8|\n",
      "|2016-09-27|      4|          4|           0|       1956|         58|      546.3|            0|                4|\n",
      "|2016-01-27|      5|          5|           0|        187|         18|       79.0|            1|                4|\n",
      "|2016-07-30|      2|          2|           0|        133|         14|       73.5|            0|                2|\n",
      "|2016-05-16|      5|          5|           0|        145|         15|       90.4|            0|                5|\n",
      "|2016-08-07|      4|          4|           0|         27|         25|       26.0|            0|                4|\n",
      "|2016-09-14|      1|          1|           0|          7|          7|        7.0|            0|                1|\n",
      "|2016-07-19|      5|          4|           1|         87|          3|       48.2|            1|                4|\n",
      "|2016-04-12|      5|          5|           0|        159|         28|       83.2|            2|                3|\n",
      "|2016-07-08|      4|          4|           0|        132|          7|       85.3|            0|                4|\n",
      "+----------+-------+-----------+------------+-----------+-----------+-----------+-------------+-----------------+\n",
      "only showing top 20 rows\n"
     ]
    }
   ],
   "source": [
    "info_corridas_do_dia = spark.read.parquet(GOLD_PATH)\n",
    "\n",
    "info_corridas_do_dia.printSchema()\n",
    "contagem = info_corridas_do_dia.count()\n",
    "print(f\"Número de registro gold: {contagem}\")\n",
    "info_corridas_do_dia.show()\n",
    "# info_corridas_do_dia.filter(f.col(\"DT_REFE\") == '2016-01-06').show()\n",
    "# info_corridas_do_dia.filter(f.col(\"VL_MAX_DIST\") > '40.0').show()\n",
    "# info_corridas_do_dia.filter(f.col(\"QT_CORR\") > 10).show()"
   ]
  },
  {
   "cell_type": "code",
   "execution_count": null,
   "id": "b81b886c-2860-4fac-a7d6-9063dd62e961",
   "metadata": {},
   "outputs": [],
   "source": []
  },
  {
   "cell_type": "code",
   "execution_count": null,
   "id": "d422f95c-de4e-40a0-9620-aa0abd50c461",
   "metadata": {},
   "outputs": [],
   "source": []
  }
 ],
 "metadata": {
  "kernelspec": {
   "display_name": "Python 3 (ipykernel)",
   "language": "python",
   "name": "python3"
  },
  "language_info": {
   "codemirror_mode": {
    "name": "ipython",
    "version": 3
   },
   "file_extension": ".py",
   "mimetype": "text/x-python",
   "name": "python",
   "nbconvert_exporter": "python",
   "pygments_lexer": "ipython3",
   "version": "3.10.18"
  }
 },
 "nbformat": 4,
 "nbformat_minor": 5
}
