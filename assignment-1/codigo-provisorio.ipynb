{
 "cells": [
  {
   "cell_type": "code",
   "execution_count": 1,
   "id": "3aa5e1e9",
   "metadata": {},
   "outputs": [],
   "source": [
    "from pyspark.sql import SparkSession\n",
    "import pyspark.sql.functions as f\n",
    "\n",
    "spark = SparkSession.builder \\\n",
    "    .appName(\"InfoTransportes\") \\\n",
    "    .getOrCreate()"
   ]
  },
  {
   "cell_type": "code",
   "execution_count": 2,
   "id": "2b828695",
   "metadata": {},
   "outputs": [
    {
     "name": "stdout",
     "output_type": "stream",
     "text": [
      "+----------------+----------------+---------+-----------------+---------------+---------+-----------------+\n",
      "|     DATA_INICIO|        DATA_FIM|CATEGORIA|     LOCAL_INICIO|      LOCAL_FIM|DISTANCIA|        PROPOSITO|\n",
      "+----------------+----------------+---------+-----------------+---------------+---------+-----------------+\n",
      "|01-01-2016 21:11|01-01-2016 21:17|  Negocio|      Fort Pierce|    Fort Pierce|       51|      Alimentação|\n",
      "|01-02-2016 01:25|01-02-2016 01:37|  Negocio|      Fort Pierce|    Fort Pierce|        5|             null|\n",
      "|01-02-2016 20:25|01-02-2016 20:38|  Negocio|      Fort Pierce|    Fort Pierce|       48|         Entregas|\n",
      "|01-05-2016 17:31|01-05-2016 17:45|  Negocio|      Fort Pierce|    Fort Pierce|       47|          Reunião|\n",
      "|01-06-2016 14:42|01-06-2016 15:49|  Negocio|      Fort Pierce|West Palm Beach|      637|Visita ao cliente|\n",
      "|01-06-2016 17:15|01-06-2016 17:19|  Negocio|  West Palm Beach|West Palm Beach|       43|      Alimentação|\n",
      "|01-06-2016 17:30|01-06-2016 17:35|  Negocio|  West Palm Beach|     Palm Beach|       71|          Reunião|\n",
      "|01-07-2016 13:27|01-07-2016 13:33|  Negocio|             Cary|           Cary|        8|          Reunião|\n",
      "|01-10-2016 08:05|01-10-2016 08:25|  Negocio|             Cary|    Morrisville|       83|          Reunião|\n",
      "|01-10-2016 12:17|01-10-2016 12:44|  Negocio|          Jamaica|       New York|      165|Visita ao cliente|\n",
      "|01-10-2016 15:08|01-10-2016 15:51|  Negocio|         New York|         Queens|      108|          Reunião|\n",
      "|01-10-2016 18:18|01-10-2016 18:53|  Negocio|         Elmhurst|       New York|       75|          Reunião|\n",
      "|01-10-2016 19:12|01-10-2016 19:32|  Negocio|          Midtown|    East Harlem|       62|          Reunião|\n",
      "|01-11-2016 11:56|01-11-2016 12:03|  Negocio|Flatiron District|        Midtown|       16|         Entregas|\n",
      "|01-11-2016 13:32|01-11-2016 13:46|  Negocio|          Midtown|   Midtown East|       17|      Alimentação|\n",
      "|01-11-2016 14:30|01-11-2016 14:43|  Negocio|     Midtown East|        Midtown|       19|      Alimentação|\n",
      "|01-12-2016 12:33|01-12-2016 12:49|  Negocio|          Midtown|  Hudson Square|       19|      Alimentação|\n",
      "|01-12-2016 12:53|01-12-2016 13:09|  Negocio|    Hudson Square|Lower Manhattan|        4|      Alimentação|\n",
      "|01-12-2016 14:42|01-12-2016 14:56|  Negocio|  Lower Manhattan|  Hudson Square|       18|         Entregas|\n",
      "|01-12-2016 15:13|01-12-2016 15:28|  Negocio|    Hudson Square| Hell's Kitchen|       24|Visita ao cliente|\n",
      "+----------------+----------------+---------+-----------------+---------------+---------+-----------------+\n",
      "only showing top 20 rows\n",
      "\n",
      "root\n",
      " |-- DATA_INICIO: string (nullable = true)\n",
      " |-- DATA_FIM: string (nullable = true)\n",
      " |-- CATEGORIA: string (nullable = true)\n",
      " |-- LOCAL_INICIO: string (nullable = true)\n",
      " |-- LOCAL_FIM: string (nullable = true)\n",
      " |-- DISTANCIA: integer (nullable = true)\n",
      " |-- PROPOSITO: string (nullable = true)\n",
      "\n"
     ]
    }
   ],
   "source": [
    "df_bronze = spark.read.csv(\"info_transportes.csv\",\n",
    "                    sep = ';',\n",
    "                    header = True,\n",
    "                    inferSchema = True,\n",
    ")\n",
    "df_bronze.show()\n",
    "df_bronze.printSchema()"
   ]
  },
  {
   "cell_type": "code",
   "execution_count": 3,
   "id": "f8360006",
   "metadata": {},
   "outputs": [
    {
     "name": "stdout",
     "output_type": "stream",
     "text": [
      "+----------------+----------------+---------+-----------------+---------------+---------+-----------------+----------+\n",
      "|     DATA_INICIO|        DATA_FIM|CATEGORIA|     LOCAL_INICIO|      LOCAL_FIM|DISTANCIA|        PROPOSITO|   DT_REFE|\n",
      "+----------------+----------------+---------+-----------------+---------------+---------+-----------------+----------+\n",
      "|01-01-2016 21:11|01-01-2016 21:17|  Negocio|      Fort Pierce|    Fort Pierce|       51|      Alimentação|2016-01-01|\n",
      "|01-02-2016 01:25|01-02-2016 01:37|  Negocio|      Fort Pierce|    Fort Pierce|        5|       Nao-consta|2016-01-02|\n",
      "|01-02-2016 20:25|01-02-2016 20:38|  Negocio|      Fort Pierce|    Fort Pierce|       48|         Entregas|2016-01-02|\n",
      "|01-05-2016 17:31|01-05-2016 17:45|  Negocio|      Fort Pierce|    Fort Pierce|       47|          Reunião|2016-01-05|\n",
      "|01-06-2016 14:42|01-06-2016 15:49|  Negocio|      Fort Pierce|West Palm Beach|      637|Visita ao cliente|2016-01-06|\n",
      "|01-06-2016 17:15|01-06-2016 17:19|  Negocio|  West Palm Beach|West Palm Beach|       43|      Alimentação|2016-01-06|\n",
      "|01-06-2016 17:30|01-06-2016 17:35|  Negocio|  West Palm Beach|     Palm Beach|       71|          Reunião|2016-01-06|\n",
      "|01-07-2016 13:27|01-07-2016 13:33|  Negocio|             Cary|           Cary|        8|          Reunião|2016-01-07|\n",
      "|01-10-2016 08:05|01-10-2016 08:25|  Negocio|             Cary|    Morrisville|       83|          Reunião|2016-01-10|\n",
      "|01-10-2016 12:17|01-10-2016 12:44|  Negocio|          Jamaica|       New York|      165|Visita ao cliente|2016-01-10|\n",
      "|01-10-2016 15:08|01-10-2016 15:51|  Negocio|         New York|         Queens|      108|          Reunião|2016-01-10|\n",
      "|01-10-2016 18:18|01-10-2016 18:53|  Negocio|         Elmhurst|       New York|       75|          Reunião|2016-01-10|\n",
      "|01-10-2016 19:12|01-10-2016 19:32|  Negocio|          Midtown|    East Harlem|       62|          Reunião|2016-01-10|\n",
      "|01-11-2016 11:56|01-11-2016 12:03|  Negocio|Flatiron District|        Midtown|       16|         Entregas|2016-01-11|\n",
      "|01-11-2016 13:32|01-11-2016 13:46|  Negocio|          Midtown|   Midtown East|       17|      Alimentação|2016-01-11|\n",
      "|01-11-2016 14:30|01-11-2016 14:43|  Negocio|     Midtown East|        Midtown|       19|      Alimentação|2016-01-11|\n",
      "|01-12-2016 12:33|01-12-2016 12:49|  Negocio|          Midtown|  Hudson Square|       19|      Alimentação|2016-01-12|\n",
      "|01-12-2016 12:53|01-12-2016 13:09|  Negocio|    Hudson Square|Lower Manhattan|        4|      Alimentação|2016-01-12|\n",
      "|01-12-2016 14:42|01-12-2016 14:56|  Negocio|  Lower Manhattan|  Hudson Square|       18|         Entregas|2016-01-12|\n",
      "|01-12-2016 15:13|01-12-2016 15:28|  Negocio|    Hudson Square| Hell's Kitchen|       24|Visita ao cliente|2016-01-12|\n",
      "+----------------+----------------+---------+-----------------+---------------+---------+-----------------+----------+\n",
      "only showing top 20 rows\n",
      "\n"
     ]
    }
   ],
   "source": [
    "df_silver = df_bronze.withColumn(\n",
    "    'DT_REFE', f.date_format(f.to_timestamp(f.col('DATA_INICIO'), 'MM-dd-yyyy H:mm'), 'yyyy-MM-dd')) \\\n",
    "        .withColumn('DISTANCIA', f.when((f.col('DISTANCIA') <= 0) | f.col('DISTANCIA').isNull(), 'Nao-consta').otherwise(f.col('DISTANCIA'))) \\\n",
    "        .fillna(value='Nao-consta', subset=['CATEGORIA', 'LOCAL_INICIO', 'LOCAL_FIM', 'PROPOSITO']) \\\n",
    "\n",
    "df_silver.show()"
   ]
  },
  {
   "cell_type": "code",
   "execution_count": 4,
   "id": "fef5f110",
   "metadata": {},
   "outputs": [
    {
     "name": "stdout",
     "output_type": "stream",
     "text": [
      "+----------+-------+-----------+------------+-----------+-----------+-----------+-------------+-----------------+\n",
      "|   DT_REFE|QT_CORR|QT_CORR_NEG|QT_CORR_PESS|VL_MAX_DIST|VL_MIN_DIST|VL_AVG_DIST|QT_CORR_REUNI|QT_CORR_NAO_REUNI|\n",
      "+----------+-------+-----------+------------+-----------+-----------+-----------+-------------+-----------------+\n",
      "|2016-01-01|      1|          1|           0|       51.0|       51.0|       51.0|            0|                1|\n",
      "|2016-01-02|      2|          2|           0|        5.0|       48.0|       26.5|            0|                2|\n",
      "|2016-01-05|      1|          1|           0|       47.0|       47.0|       47.0|            1|                0|\n",
      "|2016-01-06|      3|          3|           0|       71.0|       43.0|      250.3|            1|                2|\n",
      "|2016-01-07|      1|          1|           0|        8.0|        8.0|        8.0|            1|                0|\n",
      "|2016-01-10|      5|          5|           0|       83.0|      108.0|       98.6|            4|                1|\n",
      "|2016-01-11|      3|          3|           0|       19.0|       16.0|       17.3|            0|                3|\n",
      "|2016-01-12|      6|          6|           0|        4.0|      151.0|       36.3|            1|                5|\n",
      "|2016-01-13|      4|          4|           0|       39.0|      112.0|      122.0|            2|                2|\n",
      "|2016-01-15|      3|          3|           0|        8.0|      104.0|       72.0|            0|                3|\n",
      "|2016-01-18|      2|          2|           0|       48.0|       47.0|       47.5|            0|                2|\n",
      "|2016-01-19|      1|          1|           0|       72.0|       72.0|       72.0|            0|                1|\n",
      "|2016-01-20|      3|          3|           0|      402.0|      151.0|      241.3|            2|                1|\n",
      "|2016-01-21|      3|          3|           0|       24.0|        1.0|       13.7|            0|                3|\n",
      "|2016-01-26|      5|          5|           0|        5.0|       14.0|       12.6|            0|                5|\n",
      "|2016-01-27|      5|          5|           0|       34.0|      129.0|       79.0|            1|                4|\n",
      "|2016-01-28|      3|          3|           0|       19.0|      147.0|      107.7|            2|                1|\n",
      "|2016-01-29|      6|          6|           0|       58.0|      101.0|       69.3|            3|                3|\n",
      "|2016-01-30|      2|          2|           0|       57.0|       57.0|       57.0|            0|                2|\n",
      "|2016-02-01|      3|          3|           0|       39.0|      194.0|      155.3|            0|                3|\n",
      "+----------+-------+-----------+------------+-----------+-----------+-----------+-------------+-----------------+\n",
      "only showing top 20 rows\n",
      "\n"
     ]
    }
   ],
   "source": [
    "info_corridas_do_dia = df_silver.groupBy('DT_REFE').agg(\n",
    "    f.count('*').alias('QT_CORR'),\n",
    "    f.count(f.when(f.col('CATEGORIA') == 'Negocio', True)).alias('QT_CORR_NEG'),\n",
    "    f.count(f.when(f.col('CATEGORIA') == 'Pessoal', True)).alias('QT_CORR_PESS'),  \n",
    "    f.round(f.max('DISTANCIA'),1).alias('VL_MAX_DIST'),\n",
    "    f.round(f.min('DISTANCIA'),1).alias('VL_MIN_DIST'),\n",
    "    f.round(f.avg('DISTANCIA').alias('VL_AVG_DIST'), 1).alias('VL_AVG_DIST'),\n",
    "    f.count(f.when(f.col('PROPOSITO') == 'Reunião', True)).alias('QT_CORR_REUNI'),\n",
    "    f.count(f.when(f.col('PROPOSITO') != 'Reunião', True)).alias('QT_CORR_NAO_REUNI'),\n",
    ")\n",
    "\n",
    "#info_corridas_do_dia = info_corridas_do_dia.orderBy('DT_REFE')\n",
    "\n",
    "info_corridas_do_dia.show()"
   ]
  }
 ],
 "metadata": {
  "kernelspec": {
   "display_name": "Python 3",
   "language": "python",
   "name": "python3"
  },
  "language_info": {
   "codemirror_mode": {
    "name": "ipython",
    "version": 3
   },
   "file_extension": ".py",
   "mimetype": "text/x-python",
   "name": "python",
   "nbconvert_exporter": "python",
   "pygments_lexer": "ipython3",
   "version": "3.9.5"
  }
 },
 "nbformat": 4,
 "nbformat_minor": 5
}
